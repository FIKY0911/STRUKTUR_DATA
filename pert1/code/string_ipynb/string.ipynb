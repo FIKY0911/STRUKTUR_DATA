{
 "cells": [
  {
   "cell_type": "code",
   "execution_count": 5,
   "id": "59b3cf0e",
   "metadata": {},
   "outputs": [
    {
     "name": "stdout",
     "output_type": "stream",
     "text": [
      "1 tahun = 365 hari\n",
      "1 bulan = 30 hari\n",
      "1 tahun 1 bulan = 395 hari\n"
     ]
    }
   ],
   "source": [
    "tahun = input(\"Masukan tahun:  \")\n",
    "bulan = input(\"Masukan bulan:  \")\n",
    "\n",
    "tahunKeHari = (int(tahun) * 365)\n",
    "bulanKeHari = (int(bulan) * 30)\n",
    "hari = (tahunKeHari + bulanKeHari)\n",
    "\n",
    "print(tahun, \"tahun\", \"=\", tahunKeHari, \"hari\")\n",
    "print(bulan, \"bulan\", \"=\", bulanKeHari, \"hari\")\n",
    "print(tahun, \"tahun\", bulan, \"bulan\", \"=\", hari, \"hari\")\n"
   ]
  }
 ],
 "metadata": {
  "kernelspec": {
   "display_name": "Python 3",
   "language": "python",
   "name": "python3"
  },
  "language_info": {
   "codemirror_mode": {
    "name": "ipython",
    "version": 3
   },
   "file_extension": ".py",
   "mimetype": "text/x-python",
   "name": "python",
   "nbconvert_exporter": "python",
   "pygments_lexer": "ipython3",
   "version": "3.12.3"
  }
 },
 "nbformat": 4,
 "nbformat_minor": 5
}
